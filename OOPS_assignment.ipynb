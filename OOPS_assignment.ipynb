{
  "nbformat": 4,
  "nbformat_minor": 0,
  "metadata": {
    "colab": {
      "provenance": [],
      "collapsed_sections": []
    },
    "kernelspec": {
      "name": "python3",
      "display_name": "Python 3"
    },
    "language_info": {
      "name": "python"
    }
  },
  "cells": [
    {
      "cell_type": "markdown",
      "source": [
        "Q1. Write a Python program to demonstrate multiple inheritance.\n",
        "1. Employee class has 3 data members EmployeeID, Gender (String), Salary and\n",
        "PerformanceRating(Out of 5) of type int. It has a get() method to get these details from\n",
        "the user.\n",
        "2. JoiningDetail class has a data member DateOfJoining of type Date and a function\n",
        "getDoJ to get the Date of joining of employees.\n",
        "3. Information Class uses the marks from Employee class and the DateOfJoining date\n",
        "from the JoiningDetail class to calculate the top 3 Employees based on their Ratings\n",
        "and then Display, using readData, all the details on these employees in Ascending\n",
        "order of their Date Of Joining."
      ],
      "metadata": {
        "id": "qcJThsaFBqca"
      }
    },
    {
      "cell_type": "code",
      "source": [],
      "metadata": {
        "id": "rYtBWaG37Lv_"
      },
      "execution_count": null,
      "outputs": []
    },
    {
      "cell_type": "code",
      "execution_count": 15,
      "metadata": {
        "id": "3DXoeDS9Blje"
      },
      "outputs": [],
      "source": [
        "import pandas as pd\n",
        "import datetime as dt\n",
        "\n",
        "\n",
        "class Employee:\n",
        "  def __init__(self,EmployeeID,Gender,Salary,PerformanceRating_out_of_5):\n",
        "    self.EmployeeID = EmployeeID\n",
        "    self.Gender = Gender\n",
        "    self.Salary = Salary\n",
        "    self.PerformanceRating_out_of_5 = PerformanceRating_out_of_5\n",
        "  def getDetails(self):\n",
        "    print(\"Employee id\",self.EmployeeID)\n",
        "    print(\"Salary id\",self.Salary)\n",
        "    print(\"Gender id\",self.Gender)\n",
        "    print(\"PerformanceRating_out_of_5\",self.PerformanceRating_out_of_5)\n",
        "\n",
        "\n",
        "\n",
        "class JoiningDetail:\n",
        "  def __init__(self,DateOfJoining):\n",
        "    self.DateOfJoining = DateOfJoining\n",
        "\n",
        "  def getDoJ(self):\n",
        "    print(\"Joining date\",self.DateOfJoining)\n",
        "\n",
        "class Information(Employee,JoiningDetail):\n",
        "  def __init__(self,EmployeeID,Gender,Salary,PerformanceRating_out_of_5,DateOfJoining):\n",
        "    Employee.__init__(self,EmployeeID,Gender,Salary,PerformanceRating_out_of_5)\n",
        "    JoiningDetail.__init__(self, DateOfJoining)\n",
        "\n",
        "  def get_details(self):\n",
        "    print(\"Employee id\",self.EmployeeID)\n",
        "    print(\"Salary id\",self.Salary)\n",
        "    print(\"Gender id\",self.Gender)\n",
        "    print(\"PerformanceRating_out_of_5\",self.PerformanceRating_out_of_5)\n",
        "    print(\"DateOfJoining\",self.DateOfJoining)\n",
        "\n"
      ]
    },
    {
      "cell_type": "code",
      "source": [
        "loe = []\n",
        "\n",
        "# while True:\n",
        "#   EmployeeID = input(\"Enter Employee id\")\n",
        "#   Salary = input(\"Salary\")\n",
        "#   Gender = input(\"Gender\")\n",
        "#   PerformanceRating_out_of_5 = input(\"PerformanceRating_out_of_5\")\n",
        "#   DateOfJoining = input('Enter Date of Joining as dd/mm/yyyy')\n",
        "#   DOJ = dt.datetime.strptime(DateOfJoining, \"%d/%m/%Y\").date()\n",
        "\n",
        "#   obj = Information(EmployeeID,Gender,Salary,PerformanceRating_out_of_5,DateOfJoining)\n",
        "#   loe.append(obj)\n",
        "#   print(\"employeed added to the list successfuly\")\n",
        "\n",
        "#   option = input(\"do you want to add another employee[YYes|NO\").lower()\n",
        "#   for option not in ('yes','no,','n'):\n",
        "#     option = input(\"Choose valid option [Yes|NO\").lower()\n",
        "#   if option in('no','n'):\n",
        "#     break\n",
        "num=int(input('Enter the number of employees'))\n",
        "\n",
        "for i in range(num):\n",
        "  eid=int(input('Enter the id of the employee'))\n",
        "  gender=input('Enter the gender of the employee')\n",
        "  salary= input('Enter the salary of the employee')\n",
        "  pr=input('Enter the performance of the employee')\n",
        "  DateOfJoining = input(\"Enter Date of Joining (as dd/mm/yyyy): \")\n",
        "  DateOfJoining=dt.datetime.strptime(DateOfJoining,\"%d/%m/%Y\").date()\n",
        "  m = Information(eid,gender,salary,pr,DateOfJoining)\n",
        "  loe.append(m)\n",
        "\n",
        "for employee in loe:\n",
        "    employee.get_details()\n",
        "    print()\n",
        "\n"
      ],
      "metadata": {
        "colab": {
          "base_uri": "https://localhost:8080/"
        },
        "id": "e_SqExIqApxV",
        "outputId": "003ba610-1518-410d-f1b4-096c9b37df06"
      },
      "execution_count": null,
      "outputs": [
        {
          "output_type": "stream",
          "name": "stdout",
          "text": [
            "Enter the number of employees2\n",
            "Enter the id of the employee1\n",
            "Enter the gender of the employeem\n",
            "Enter the salary of the employee100\n",
            "Enter the performance of the employee4\n",
            "Enter Date of Joining (as dd/mm/yyyy): 22/02/2022\n",
            "Enter the id of the employee2\n",
            "Enter the gender of the employeef\n",
            "Enter the salary of the employee200\n",
            "Enter the performance of the employee5\n",
            "Enter Date of Joining (as dd/mm/yyyy): 11/11/2021\n",
            "Employee id 1\n",
            "Salary id 100\n",
            "Gender id m\n",
            "PerformanceRating_out_of_5 4\n",
            "DateOfJoining 2022-02-22\n",
            "\n",
            "Employee id 2\n",
            "Salary id 200\n",
            "Gender id f\n",
            "PerformanceRating_out_of_5 5\n",
            "DateOfJoining 2021-11-11\n",
            "\n"
          ]
        }
      ]
    },
    {
      "cell_type": "markdown",
      "source": [
        "Q.2 Write a Python program to demonstrate Polymorphism.\n",
        "1. Class Vehicle with a parameterized function Fare, that takes input value as fare and\n",
        "returns it to calling Objects.\n",
        "2. Create five separate variables Bus, Car, Train, Truck and Ship that call the Fare\n",
        "function.\n",
        "3. Use a third variable TotalFare to store the sum of fare for each Vehicle Type.\n",
        "4. Print the TotalFare."
      ],
      "metadata": {
        "id": "_Q-ShVkqO5T9"
      }
    },
    {
      "cell_type": "code",
      "source": [
        "#method 1\n",
        "class Vehicle:\n",
        "    def __init__(self,name):\n",
        "      self.name = name\n",
        "\n",
        "    def fare(self,fare):\n",
        "      self.fare = fare\n",
        "      return self.fare\n",
        "  \n",
        "Bus = Vehicle('Bus')\n",
        "Bus_fare = Bus.fare(20)\n",
        "\n",
        "Car = Vehicle('Car')\n",
        "Car_fare = Car.fare(30)\n",
        "\n",
        "Train = Vehicle('Train')\n",
        "Train_fare = Train.fare(10)\n",
        "\n",
        "Truck = Vehicle('Truck')\n",
        "Truck_fare = Truck.fare(20)\n",
        "\n",
        "Ship = Vehicle('Ship')\n",
        "Ship_fare = Ship.fare(50)\n",
        "\n",
        "TotalFare = Car_fare + Bus_fare + Train_fare + Truck_fare + Ship_fare\n",
        "print(TotalFare)\n"
      ],
      "metadata": {
        "colab": {
          "base_uri": "https://localhost:8080/"
        },
        "id": "97J03tPPO4K_",
        "outputId": "5140e1d1-4e0e-4331-d988-8d8f88b6aafa"
      },
      "execution_count": null,
      "outputs": [
        {
          "output_type": "stream",
          "name": "stdout",
          "text": [
            "130\n"
          ]
        }
      ]
    },
    {
      "cell_type": "code",
      "source": [
        "#method 2\n",
        "\n",
        "class Vehicle:\n",
        "    def __init__(self,name):\n",
        "      self.name = name\n",
        "\n",
        "    def fare(self,fare):\n",
        "      self.fare = fare\n",
        "      return self.fare\n",
        "\n",
        "Bus = Vehicle('Bus').fare(20)\n",
        "Car = Vehicle('Car').fare(30)\n",
        "Train = Vehicle('Train').fare(10)\n",
        "Truck = Vehicle('Truck').fare(5)\n",
        "Ship = Vehicle('Ship').fare(50)\n",
        "\n",
        "TotalFare = Car + Bus + Train + Truck + Ship\n",
        "print(TotalFare)\n"
      ],
      "metadata": {
        "colab": {
          "base_uri": "https://localhost:8080/"
        },
        "id": "zuNzWr2UjGjh",
        "outputId": "bd14f4ac-f745-4bd2-c93d-84cec5da0183"
      },
      "execution_count": null,
      "outputs": [
        {
          "output_type": "stream",
          "name": "stdout",
          "text": [
            "115\n"
          ]
        }
      ]
    },
    {
      "cell_type": "markdown",
      "source": [
        "Q3. Consider an ongoing test cricket series. Following are the names of the players and their\n",
        "scores in the test1 and 2.\n",
        "Test Match 1 :\n",
        "Dhoni : 56 , Balaji : 94\n",
        "Test Match 2 :\n",
        "Balaji : 80 , Dravid : 105\n",
        "Calculate the highest number of runs scored by an individual cricketer in both of the matches.\n",
        "Create a python function Max_Score (M) that reads a dictionary M that recognizes the player\n",
        "with the highest total score. This function will return ( Top player , Total Score ) . You can\n",
        "consider the Top player as String who is the highest scorer and Top score as Integer .\n",
        "Input : Max_Score({‘test1’:{‘Dhoni’:56, ‘Balaji : 85}, ‘test2’:{‘Dhoni’ 87, ‘Balaji’’:200}})\n",
        "Output : (‘Balaji ‘ , 200)"
      ],
      "metadata": {
        "id": "QomCd3eMnelD"
      }
    },
    {
      "cell_type": "code",
      "source": [
        "M = {\"test1\": {'Dhoni': 56, \"Balaji\": 85}, 'test2': {'Dhoni': 87, 'Balaji': 200}}\n",
        "\n",
        "def Max_Score(d):\n",
        "    total = {}\n",
        "    for k in d.keys():\n",
        "        for n in d[k].keys():\n",
        "            if n in total.keys():\n",
        "                total[n] = total[n] + d[k][n]\n",
        "            else:\n",
        "                total[n] = d[k][n]\n",
        "    print(\"Total Run Scored by Each Playes in 2 Tests: \")\n",
        "    print(total)\n",
        "\n",
        "    print(\"Player With highest score\")\n",
        "    maxtotal = -1\n",
        "    for n in total.keys():\n",
        "        if total[n] > maxtotal:\n",
        "            maxname = n\n",
        "            maxtotal = total[n]\n",
        "\n",
        "    return (maxname, maxtotal)\n",
        "\n",
        "summary = Max_Score(M)\n",
        "print(summary)"
      ],
      "metadata": {
        "id": "IVT2iFYvnS3o",
        "colab": {
          "base_uri": "https://localhost:8080/"
        },
        "outputId": "ae65db99-9f1d-4de3-a717-2527b495f94c"
      },
      "execution_count": null,
      "outputs": [
        {
          "output_type": "stream",
          "name": "stdout",
          "text": [
            "Total Run Scored by Each Playes in 2 Tests: \n",
            "{'Dhoni': 143, 'Balaji': 285}\n",
            "Player With highest score\n",
            "('Balaji', 285)\n"
          ]
        }
      ]
    },
    {
      "cell_type": "markdown",
      "source": [
        "Q4. Create a simple Card game in which there are 8 cards which are randomly chosen from a\n",
        "deck. The first card is shown face up. The game asks the player to predict whether the next card\n",
        "in the selection will have a higher or lower value than the currently showing card.\n",
        "For example, say the card that’s shown is a 3. The player chooses “higher,” and the next card is\n",
        "shown. If that card has a higher value, the player is correct. In this example, if the player had\n",
        "chosen “lower,” they would have been incorrect. If the player guesses correctly, they get 20\n",
        "points. If they choose incorrectly, they lose 15 points. If the next card to be turned over has the\n",
        "same value as the previous card, the player is incorrect.\n",
        "\n"
      ],
      "metadata": {
        "id": "YcCtLaCetyuT"
      }
    },
    {
      "cell_type": "code",
      "source": [
        "\n",
        "import random\n",
        "guessesTaken = 1\n",
        "print('Hello! I am going to show you a card, guess whether the next card is higher or lower')\n",
        "number = random.randint(1,12)\n",
        "points=0\n",
        "\n",
        "print('The first card value  is:  ',number)\n",
        "guess = input('Take a guess, is the next card higher or lower? \"h\" or \"l\"   : ')\n",
        "\n",
        "while guessesTaken < 8: \n",
        "\n",
        "    if guessesTaken == 7:\n",
        "        print(\"your 8 card, i.e 7 chances  are over\")\n",
        "        print(\"Your total score is : \",points)\n",
        "        break\n",
        "    else:\n",
        "        nextnumber = random.randint(1,12)\n",
        "        print('card', guessesTaken+1,\"value is  \",nextnumber)\n",
        "\n",
        "        if guess == \"h\" and nextnumber <= number:\n",
        "            points-=15\n",
        "            print (\"you lose\")\n",
        "            \n",
        "        elif guess == \"h\" and nextnumber > number:\n",
        "            points+=20\n",
        "            print (\"you won\")\n",
        "            \n",
        "        elif guess == \"l\" and nextnumber >= number:\n",
        "            points-=15\n",
        "            print (\"you lose\")\n",
        "            \n",
        "        elif guess == \"l\" and nextnumber < number:\n",
        "            points+=20\n",
        "            print (\"you won\")\n",
        "            \n",
        "        print(\"Total score is  \",points)\n",
        "        guess = input(\"the card was  \" + str(nextnumber)+ \" Now, next card higher or lower?  \")\n",
        "\n",
        "        guessesTaken += 1 \n",
        "        number = nextnumber\n"
      ],
      "metadata": {
        "id": "-Y4fUM1Y5mtf",
        "colab": {
          "base_uri": "https://localhost:8080/"
        },
        "outputId": "c182a7d0-3cad-407c-9acc-8df5683225d5"
      },
      "execution_count": 5,
      "outputs": [
        {
          "output_type": "stream",
          "name": "stdout",
          "text": [
            "Hello! I am going to show you a card, guess whether the next card is higher or lower\n",
            "The first card value  is:   6\n",
            "Take a guess, is the next card higher or lower? \"h\" or \"l\"   : h\n",
            "card 2 value is   2\n",
            "you lose\n",
            "Total score is   -15\n",
            "the card was  2 Now, next card higher or lower?  h\n",
            "card 3 value is   5\n",
            "you won\n",
            "Total score is   5\n",
            "the card was  5 Now, next card higher or lower?  h\n",
            "card 4 value is   4\n",
            "you lose\n",
            "Total score is   -10\n",
            "the card was  4 Now, next card higher or lower?  h\n",
            "card 5 value is   4\n",
            "you lose\n",
            "Total score is   -25\n",
            "the card was  4 Now, next card higher or lower?  h\n",
            "card 6 value is   10\n",
            "you won\n",
            "Total score is   -5\n",
            "the card was  10 Now, next card higher or lower?  h\n",
            "card 7 value is   10\n",
            "you lose\n",
            "Total score is   -20\n",
            "the card was  10 Now, next card higher or lower?  h\n",
            "your 8 card, i.e 7 chances  are over\n",
            "Your total score is :  -20\n"
          ]
        }
      ]
    },
    {
      "cell_type": "markdown",
      "source": [
        "Q5. Create an empty dictionary called Car_0 . Then fill the dictionary with Keys : color , speed\n",
        ", X_position and Y_position.\n",
        "car_0 = {'x_position': 10, 'y_position': 72, 'speed': 'medium'} .\n",
        "a) If the speed is slow the coordinates of the X_pos get incremented by 2.\n",
        "b) If the speed is Medium the coordinates of the X_pos gets incremented by 9\n",
        "c) Now if the speed is Fast the coordinates of the X_pos gets incremented by 22.\n",
        "Print the modified dictionary.\n"
      ],
      "metadata": {
        "id": "bdg186sqt20n"
      }
    },
    {
      "cell_type": "code",
      "source": [
        "car_0 = {}\n",
        "car_0 = {'x_position': 10, 'y_position': 72, 'speed': 'medium'}\n",
        "\n",
        "\n",
        "def speed(car_0):\n",
        "  if car_0['speed'] == 'slow':\n",
        "    car_0['x_position'] += 2\n",
        "    return car_0\n",
        "\n",
        "  elif car_0['speed'] == 'medium':\n",
        "    car_0['x_position'] += 9\n",
        "    return car_0\n",
        "\n",
        "  elif car_0['speed'] == 'fast':\n",
        "    car_0['x_position'] += 22\n",
        "    return car_0\n",
        "\n",
        "  else:\n",
        "    print(\"please mention speed as slow, medium or fast\")\n",
        "  \n",
        "speed(car_0)"
      ],
      "metadata": {
        "colab": {
          "base_uri": "https://localhost:8080/"
        },
        "id": "TCxwCr2bt4-h",
        "outputId": "65d9cf87-9566-4cb1-e934-1db4500a8241"
      },
      "execution_count": null,
      "outputs": [
        {
          "output_type": "execute_result",
          "data": {
            "text/plain": [
              "{'x_position': 19, 'y_position': 72, 'speed': 'medium'}"
            ]
          },
          "metadata": {},
          "execution_count": 72
        }
      ]
    },
    {
      "cell_type": "code",
      "source": [
        "x = dict.fromkeys(['x_position', 'y_position', 'speed'], [])\n",
        "\n",
        "x"
      ],
      "metadata": {
        "colab": {
          "base_uri": "https://localhost:8080/"
        },
        "id": "Q_YeBKQBtDhK",
        "outputId": "8d15dd4d-3938-4e20-eb01-5eb22fda71eb"
      },
      "execution_count": null,
      "outputs": [
        {
          "output_type": "execute_result",
          "data": {
            "text/plain": [
              "{'x_position': [], 'y_position': [], 'speed': []}"
            ]
          },
          "metadata": {},
          "execution_count": 6
        }
      ]
    },
    {
      "cell_type": "markdown",
      "source": [
        "Q6. Show a basic implementation of abstraction in python using the abstract classes.\n",
        "1. Create an abstract class in python.\n",
        "2. Implement abstraction with the other classes and base class as abstract class\n"
      ],
      "metadata": {
        "id": "q_bBagEat5Te"
      }
    },
    {
      "cell_type": "code",
      "source": [
        "# Python program showing\n",
        "# abstract base class work\n",
        " \n",
        "from abc import ABC, abstractmethod\n",
        " \n",
        "class Polygon(ABC):\n",
        " \n",
        "    @abstractmethod\n",
        "    def noofsides(self):\n",
        "        pass\n",
        " \n",
        "class Triangle(Polygon):\n",
        " \n",
        "    # overriding abstract method\n",
        "    def noofsides(self):\n",
        "        print(\"I have 3 sides\")\n",
        " \n",
        "class Pentagon(Polygon):\n",
        " \n",
        "    # overriding abstract method\n",
        "    def noofsides(self):\n",
        "        print(\"I have 5 sides\")\n",
        " \n",
        "class Hexagon(Polygon):\n",
        " \n",
        "    # overriding abstract method\n",
        "    def noofsides(self):\n",
        "        print(\"I have 6 sides\")\n",
        " \n",
        "class Quadrilateral(Polygon):\n",
        " \n",
        "    # overriding abstract method\n",
        "    def noofsides(self):\n",
        "        print(\"I have 4 sides\")\n",
        " \n",
        "# Driver code\n",
        "R = Triangle()\n",
        "R.noofsides()\n",
        " \n",
        "K = Quadrilateral()\n",
        "K.noofsides()\n",
        " \n",
        "R = Pentagon()\n",
        "R.noofsides()\n",
        " \n",
        "K = Hexagon()\n",
        "K.noofsides()"
      ],
      "metadata": {
        "id": "ZqtpFItjt_kQ",
        "colab": {
          "base_uri": "https://localhost:8080/"
        },
        "outputId": "5dc34d77-f526-4f72-da3c-36996ac1b741"
      },
      "execution_count": null,
      "outputs": [
        {
          "output_type": "stream",
          "name": "stdout",
          "text": [
            "I have 3 sides\n",
            "I have 4 sides\n",
            "I have 5 sides\n",
            "I have 6 sides\n"
          ]
        }
      ]
    },
    {
      "cell_type": "markdown",
      "source": [
        "Q7. Create a program in python to demonstrate Polymorphism.\n",
        "1. Make use of private and protected members using python name mangling techniques."
      ],
      "metadata": {
        "id": "kkAK7vKmuCpB"
      }
    },
    {
      "cell_type": "code",
      "source": [
        "#The members of a class that are declared protected are only accessible to a class derived from it.\n",
        "#Data members of a class are declared protected by adding a single underscore ‘_’ symbol before the data member of that class. \n",
        "\n",
        "# program to illustrate protected access modifier in a class\n",
        " \n",
        "# super class\n",
        "class Student:\n",
        "    \n",
        "     # protected data members\n",
        "     _name = None\n",
        "     _roll = None\n",
        "     _branch = None\n",
        "    \n",
        "     # constructor\n",
        "     def __init__(self, name, roll, branch): \n",
        "          self._name = name\n",
        "          self._roll = roll\n",
        "          self._branch = branch\n",
        "    \n",
        "     # protected member function  \n",
        "     def _displayRollAndBranch(self):\n",
        " \n",
        "          # accessing protected data members\n",
        "          print(\"Roll: \", self._roll)\n",
        "          print(\"Branch: \", self._branch)\n",
        " \n",
        " \n",
        "# derived class\n",
        "class Geek(Student):\n",
        " \n",
        "       # constructor\n",
        "       def __init__(self, name, roll, branch):\n",
        "                Student.__init__(self, name, roll, branch)\n",
        "         \n",
        "       # public member function\n",
        "       def displayDetails(self):\n",
        "                   \n",
        "                 # accessing protected data members of super class\n",
        "                print(\"Name: \", self._name)\n",
        "                   \n",
        "                 # accessing protected member functions of super class\n",
        "                self._displayRollAndBranch()\n",
        " \n",
        "# creating objects of the derived class       \n",
        "obj = Geek(\"R2J\", 1706256, \"Information Technology\")\n",
        " \n",
        "# calling public member functions of the class\n",
        "obj.displayDetails()"
      ],
      "metadata": {
        "id": "KB61gMsauHMh",
        "colab": {
          "base_uri": "https://localhost:8080/"
        },
        "outputId": "eb040183-4c9a-4d1a-8780-e7f7e2802d48"
      },
      "execution_count": null,
      "outputs": [
        {
          "output_type": "stream",
          "name": "stdout",
          "text": [
            "Name:  R2J\n",
            "Roll:  1706256\n",
            "Branch:  Information Technology\n"
          ]
        }
      ]
    },
    {
      "cell_type": "code",
      "source": [
        "#The members of a class that are declared private are accessible within the class only, private access modifier is the most secure access modifier. \n",
        "#Data members of a class are declared private by adding a double underscore ‘__’ symbol before the data member of that class. \n",
        "\n",
        "# program to illustrate private access modifier in a class\n",
        " \n",
        "class Geek:\n",
        "    \n",
        "     # private members\n",
        "     __name = None\n",
        "     __roll = None\n",
        "     __branch = None\n",
        " \n",
        "     # constructor\n",
        "     def __init__(self, name, roll, branch): \n",
        "          self.__name = name\n",
        "          self.__roll = roll\n",
        "          self.__branch = branch\n",
        " \n",
        "     # private member function \n",
        "     def __displayDetails(self):\n",
        "           \n",
        "           # accessing private data members\n",
        "           print(\"Name: \", self.__name)\n",
        "           print(\"Roll: \", self.__roll)\n",
        "           print(\"Branch: \", self.__branch)\n",
        "    \n",
        "     # public member function\n",
        "     def accessPrivateFunction(self):\n",
        "            \n",
        "           # accessing private member function\n",
        "           self.__displayDetails() \n",
        " \n",
        "# creating object   \n",
        "obj = Geek(\"R2J\", 1706256, \"Information Technology\")\n",
        " \n",
        "# calling public member function of the class\n",
        "obj.accessPrivateFunction()"
      ],
      "metadata": {
        "colab": {
          "base_uri": "https://localhost:8080/"
        },
        "id": "LMnqSkdcg-19",
        "outputId": "ee263f05-13e0-4bcf-fa78-283e71f89c27"
      },
      "execution_count": null,
      "outputs": [
        {
          "output_type": "stream",
          "name": "stdout",
          "text": [
            "Name:  R2J\n",
            "Roll:  1706256\n",
            "Branch:  Information Technology\n"
          ]
        }
      ]
    },
    {
      "cell_type": "markdown",
      "source": [
        "Q8. Given a list of 50 natural numbers from 1-50. Create a function that will take every element\n",
        "from the list and return the square of each element. Use the python map and filter methods to\n",
        "implement the function on the given list.\n"
      ],
      "metadata": {
        "id": "z57nllyzuJsu"
      }
    },
    {
      "cell_type": "code",
      "source": [
        "import numpy as np\n",
        "\n",
        "a = np.arange(0,51).tolist()\n",
        "\n",
        "def fun(n):\n",
        "  return n*n\n",
        "\n",
        "result = map(fun, a)\n",
        "\n",
        "print(list(result))\n",
        "\n",
        "#for i in result:\n",
        "  #print(i)\n",
        "\n",
        "#not sure how to use filter method to solve this. is it possible?"
      ],
      "metadata": {
        "id": "IHDbYyXcuKOw",
        "colab": {
          "base_uri": "https://localhost:8080/"
        },
        "outputId": "ebd78ddd-e1f8-4697-94eb-d5e81cd46d81"
      },
      "execution_count": null,
      "outputs": [
        {
          "output_type": "stream",
          "name": "stdout",
          "text": [
            "[0, 1, 4, 9, 16, 25, 36, 49, 64, 81, 100, 121, 144, 169, 196, 225, 256, 289, 324, 361, 400, 441, 484, 529, 576, 625, 676, 729, 784, 841, 900, 961, 1024, 1089, 1156, 1225, 1296, 1369, 1444, 1521, 1600, 1681, 1764, 1849, 1936, 2025, 2116, 2209, 2304, 2401, 2500]\n"
          ]
        }
      ]
    },
    {
      "cell_type": "markdown",
      "source": [
        "Q9. Create a class, Triangle. Its init() method should take self, angle1, angle2, and angle3 as\n",
        "arguments.\n"
      ],
      "metadata": {
        "id": "v303yP6TuKt3"
      }
    },
    {
      "cell_type": "code",
      "source": [
        "class Triangle:\n",
        "    def __init__(self,angle1, angle2, angle3):\n",
        "      self.angle1 = angle1\n",
        "      self.angle2 = angle2\n",
        "      self.angle3 = angle3\n"
      ],
      "metadata": {
        "id": "ix8aDanCuMsw"
      },
      "execution_count": null,
      "outputs": []
    },
    {
      "cell_type": "markdown",
      "source": [
        "Q10. Create a class variable named number_of_sides and set it equal to 3.\n"
      ],
      "metadata": {
        "id": "Gh3z_y28uNKa"
      }
    },
    {
      "cell_type": "code",
      "source": [
        "class Triangle:\n",
        "  def __init__(self,angle1, angle2, angle3):\n",
        "      self.angle1 = angle1\n",
        "      self.angle2 = angle2\n",
        "      self.angle3 = angle3\n",
        "      number_of_sides=3"
      ],
      "metadata": {
        "id": "j1_b8rjouO8R"
      },
      "execution_count": null,
      "outputs": []
    },
    {
      "cell_type": "markdown",
      "source": [
        "Q11. Create a method named check_angles. The sum of a triangle's three angles should return\n",
        "True if the sum is equal to 180, and False otherwise. The method should print whether the\n",
        "angles belong to a triangle or not."
      ],
      "metadata": {
        "id": "PktknLi3uPSq"
      }
    },
    {
      "cell_type": "code",
      "source": [
        "class Triangle:\n",
        "  def __init__(self,angle1, angle2, angle3):\n",
        "      self.angle1 = angle1\n",
        "      self.angle2 = angle2\n",
        "      self.angle3 = angle3\n",
        "      number_of_sides=3\n",
        "\n",
        "  def check_angles(self):\n",
        "    if self.angle1 + self.angle2 + self.angle3 == 180:\n",
        "      print('angles are of a triangle')\n",
        "    else:\n",
        "      print('angles do not belong to a triangle')\n"
      ],
      "metadata": {
        "id": "1EBFs0VDuQe_"
      },
      "execution_count": null,
      "outputs": []
    },
    {
      "cell_type": "code",
      "source": [
        "X = Triangle(50,50,80)\n",
        "X.check_angles()"
      ],
      "metadata": {
        "colab": {
          "base_uri": "https://localhost:8080/"
        },
        "id": "jOiPwaSowIjQ",
        "outputId": "03aa4f3e-2d1a-4707-b945-110fc47081d6"
      },
      "execution_count": null,
      "outputs": [
        {
          "output_type": "stream",
          "name": "stdout",
          "text": [
            "angles are of a triangle\n"
          ]
        }
      ]
    },
    {
      "cell_type": "markdown",
      "source": [
        "11.1 Write methods to verify if the triangle is an acute triangle or obtuse triangle.\n",
        "\n",
        "11.2 Create an instance of the triangle class and call all the defined methods.\n",
        "\n",
        "\n",
        "\n",
        "\n"
      ],
      "metadata": {
        "id": "ybC1yMJtuQ74"
      }
    },
    {
      "cell_type": "code",
      "source": [
        "class Triangle:\n",
        "  def __init__(self,angle1, angle2, angle3):\n",
        "      self.angle1 = angle1\n",
        "      self.angle2 = angle2\n",
        "      self.angle3 = angle3\n",
        "      number_of_sides=3\n",
        "\n",
        "  def check_angles(self):\n",
        "    if self.angle1 + self.angle2 + self.angle3 == 180:\n",
        "      print('angles are of a triangle')\n",
        "      print('angles do not belong to a triangle')\n",
        "    \n",
        "  def triangle_type(self):\n",
        "    if self.angle1<90 and self.angle2<90 and self.angle3<90:\n",
        "      print('acute angled triangle')\n",
        "    elif self.angle1>90 or self.angle2>90 or self.angle3>90:\n",
        "      print('obtuse angled triangle')\n",
        "    elif self.angle1==90 or self.angle2==90 or self.angle3==90:\n",
        "      print('right angled triangle')\n",
        "      "
      ],
      "metadata": {
        "id": "6ueK2M0juTFv"
      },
      "execution_count": null,
      "outputs": []
    },
    {
      "cell_type": "code",
      "source": [
        "X = Triangle(50,50,80)\n",
        "X.check_angles()\n",
        "X.triangle_type()"
      ],
      "metadata": {
        "colab": {
          "base_uri": "https://localhost:8080/"
        },
        "id": "RIvxj_xHzwDA",
        "outputId": "fe6945b3-74ac-4a5f-f3cb-f7bd34d14360"
      },
      "execution_count": null,
      "outputs": [
        {
          "output_type": "stream",
          "name": "stdout",
          "text": [
            "angles are of a triangle\n",
            "angles do not belong to a triangle\n",
            "acute angled triangle\n"
          ]
        }
      ]
    },
    {
      "cell_type": "markdown",
      "source": [
        "11.3 Create three child classes of triangle class - isosceles_triangle, right_triangle and equilateral_triangle\n",
        "\n",
        "11.4 Define methods which check for their properties."
      ],
      "metadata": {
        "id": "K-EnIvN26Wl7"
      }
    },
    {
      "cell_type": "code",
      "source": [
        "class isosceles_triangle(Triangle):\n",
        "  def triangle_type(self):\n",
        "    if self.angle1==self.angle2 or self.angle2==self.angle3 or self.angle1==self.angle3:\n",
        "      print('this is an isosceles triangle')\n",
        "      return True\n",
        "    \n",
        "    else:\n",
        "      print('not an isosceles triangle')\n",
        "      return False\n",
        "      \n",
        "\n",
        "class right_triangle(Triangle):\n",
        "  def triangle_type(self):\n",
        "    if self.angle1==90 or self.angle2==90 or self.angle1==90:\n",
        "      print('this is a right angled triangle')\n",
        "      return True\n",
        "    \n",
        "    else:\n",
        "      print('not a right angled')\n",
        "      return False\n",
        "      \n",
        "\n",
        "class equilateral_triangle(Triangle):\n",
        "  def triangle_type(self):\n",
        "    if self.angle1==60 and self.angle2==60 and self.angle1==60:\n",
        "      print('this is an equilateral triangle')\n",
        "      return True\n",
        "      \n",
        "    else:\n",
        "      print('not an equilateral triangle')\n",
        "      return False\n",
        "  \n",
        "\n"
      ],
      "metadata": {
        "id": "-7MNQZeh0Eej"
      },
      "execution_count": null,
      "outputs": []
    },
    {
      "cell_type": "code",
      "source": [
        "isosceles_triangle(50,50,80).check_angles()"
      ],
      "metadata": {
        "colab": {
          "base_uri": "https://localhost:8080/"
        },
        "id": "n5hICUSc2OBZ",
        "outputId": "87cdaf02-e82a-4398-90a2-08115950302e"
      },
      "execution_count": null,
      "outputs": [
        {
          "output_type": "stream",
          "name": "stdout",
          "text": [
            "angles are of a triangle\n",
            "angles do not belong to a triangle\n"
          ]
        }
      ]
    },
    {
      "cell_type": "code",
      "source": [
        "equilateral_triangle(60,60,60).triangle_type()"
      ],
      "metadata": {
        "colab": {
          "base_uri": "https://localhost:8080/"
        },
        "id": "zQOFIGqs5yq9",
        "outputId": "36059741-fcc0-4680-b94f-2bdc40c51da3"
      },
      "execution_count": null,
      "outputs": [
        {
          "output_type": "stream",
          "name": "stdout",
          "text": [
            "this is an equilateral triangle\n"
          ]
        }
      ]
    },
    {
      "cell_type": "markdown",
      "source": [
        "Q12. Create a class isosceles_right_triangle which inherits from isosceles_triangle and\n",
        "right_triangle.\n",
        "12.1 Define methods which check for their properties"
      ],
      "metadata": {
        "id": "HdRuez5kuTgr"
      }
    },
    {
      "cell_type": "code",
      "source": [
        "#continuing from previous answer:  isosceles_triangle and right_triangle are already created\n",
        "\n",
        "class iscosceles_right_triangle(isosceles_triangle,right_triangle):\n",
        "  def triangle_property(self):\n",
        "    if isosceles_triangle(self.angle1,self.angle2,self.angle3).triangle_type()  and right_triangle(self.angle1,self.angle2,self.angle3).triangle_type() == True:\n",
        "      print(\"this is an isosceles triangle and a right angled triangle\")\n",
        "\n",
        "   # elif isosceles_triangle(self.angle1,self.angle2,self.angle3).triangle_type() == True: \n",
        "      print(\"this is an isosceles triangle\")\n",
        "    #this is not required because in first condition, it will anyways run and print if isosceles\n",
        "\n",
        "    #elif right_triangle(self.angle1,self.angle2,self.angle3).triangle_type() == True:\n",
        "      print(\"this is a right angled triangle\")\n",
        "    #this is not required because in first condition, it will anyways run and print if right angled  \n",
        "\n",
        "    else:\n",
        "      print('This is not both- an isosceles and a right angled triangle')\n",
        "\n",
        "  \n"
      ],
      "metadata": {
        "id": "Fa087aU7uW2D"
      },
      "execution_count": null,
      "outputs": []
    },
    {
      "cell_type": "code",
      "source": [
        "iscosceles_right_triangle(60,60,60).triangle_property()"
      ],
      "metadata": {
        "colab": {
          "base_uri": "https://localhost:8080/"
        },
        "id": "zv81qfbr1EBA",
        "outputId": "a11f26b2-f8dd-47bc-d6c5-902da5f6a494"
      },
      "execution_count": null,
      "outputs": [
        {
          "output_type": "stream",
          "name": "stdout",
          "text": [
            "this is an isosceles triangle\n",
            "not a right angled\n",
            "This is not both- an isosceles and a right angled triangle\n"
          ]
        }
      ]
    }
  ]
}