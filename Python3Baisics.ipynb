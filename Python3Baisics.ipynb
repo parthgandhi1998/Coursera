{
    "cells": [
        {
            "cell_type": "markdown",
            "metadata": {
                "id": "f2HGaODTOO09"
            },
            "source": "A1"
        },
        {
            "cell_type": "code",
            "execution_count": 19,
            "metadata": {
                "colab": {
                    "base_uri": "https://localhost:8080/"
                },
                "id": "a_41r69rL5NZ",
                "outputId": "1a5749a9-f6ef-46bf-8ed8-b0ec0e34d52d"
            },
            "outputs": [
                {
                    "data": {
                        "text/plain": "162.8894626777442"
                    },
                    "execution_count": 19,
                    "metadata": {},
                    "output_type": "execute_result"
                }
            ],
            "source": "n= 10\nr=5\np=100\nA= p*(1+r/100)**n\nA\n"
        },
        {
            "cell_type": "markdown",
            "metadata": {
                "id": "x6Mu2FOoOTuD"
            },
            "source": "A2 - d (Capital 'B,A' needs to be used)"
        },
        {
            "cell_type": "code",
            "execution_count": 28,
            "metadata": {
                "colab": {
                    "base_uri": "https://localhost:8080/",
                    "height": 36
                },
                "id": "mPmiWdiwMV4P",
                "outputId": "52fecf66-14fc-48f1-8644-875a41320bc5"
            },
            "outputs": [
                {
                    "data": {
                        "application/vnd.google.colaboratory.intrinsic+json": {
                            "type": "string"
                        },
                        "text/plain": "'There are 20 students in the class, with 10 who play atleast one sport'"
                    },
                    "execution_count": 28,
                    "metadata": {},
                    "output_type": "execute_result"
                }
            ],
            "source": "A=10\nB=20\nStr=\"There are {} students in the class, with {} who play atleast one sport\".format(B,A)\nStr"
        },
        {
            "cell_type": "markdown",
            "metadata": {
                "id": "nXEvBZ2cP-ik"
            },
            "source": "A3 - b"
        },
        {
            "cell_type": "code",
            "execution_count": 35,
            "metadata": {
                "colab": {
                    "base_uri": "https://localhost:8080/"
                },
                "id": "xKstROmaMIuM",
                "outputId": "6759c55f-4dad-42e1-aba8-805c4bca248a"
            },
            "outputs": [
                {
                    "name": "stdout",
                    "output_type": "stream",
                    "text": "It goes without saying, \"Time is Money\", and none can deny it.\n"
                }
            ],
            "source": " print(\"It goes without saying, \\\"Time is Money\\\", and none can deny it.\")\n\n"
        },
        {
            "cell_type": "markdown",
            "metadata": {
                "id": "wqal-d7ZSQMz"
            },
            "source": "A4 - b"
        },
        {
            "cell_type": "code",
            "execution_count": 37,
            "metadata": {
                "colab": {
                    "base_uri": "https://localhost:8080/"
                },
                "id": "kjRZEajORneK",
                "outputId": "cdc366ea-e0b6-4bc0-d613-d75eaf1c63db"
            },
            "outputs": [
                {
                    "data": {
                        "text/plain": "3"
                    },
                    "execution_count": 37,
                    "metadata": {},
                    "output_type": "execute_result"
                }
            ],
            "source": "x = lambda a,b: a//b\nx(10,3)"
        },
        {
            "cell_type": "markdown",
            "metadata": {
                "id": "eXriVB1bSc_a"
            },
            "source": "A5 - C"
        },
        {
            "cell_type": "code",
            "execution_count": 39,
            "metadata": {
                "colab": {
                    "base_uri": "https://localhost:8080/"
                },
                "id": "hpbRdD_nR6j6",
                "outputId": "fbc3c80a-c2e3-42cd-9515-5c42317da89b"
            },
            "outputs": [
                {
                    "name": "stdout",
                    "output_type": "stream",
                    "text": "Greater\n"
                }
            ],
            "source": "A = 10\nB = 12\nprint(\"Smaller\") if A == B else print(\"Greater\") if A < B else print(\"True\")\n\n"
        },
        {
            "cell_type": "markdown",
            "metadata": {
                "id": "3rdwsE14Sn0i"
            },
            "source": "A6 - C"
        },
        {
            "cell_type": "code",
            "execution_count": 42,
            "metadata": {
                "colab": {
                    "base_uri": "https://localhost:8080/",
                    "height": 244
                },
                "id": "2Atv4tw8SBHa",
                "outputId": "3a8287ac-d865-4c73-bb9c-2cefdfec489e"
            },
            "outputs": [
                {
                    "name": "stdout",
                    "output_type": "stream",
                    "text": "[2, 7, 3, 5, 4, 6]\n"
                },
                {
                    "ename": "NameError",
                    "evalue": "ignored",
                    "output_type": "error",
                    "traceback": [
                        "\u001b[0;31m---------------------------------------------------------------------------\u001b[0m",
                        "\u001b[0;31mNameError\u001b[0m                                 Traceback (most recent call last)",
                        "\u001b[0;32m<ipython-input-42-09beb8db4277>\u001b[0m in \u001b[0;36m<module>\u001b[0;34m\u001b[0m\n\u001b[1;32m      3\u001b[0m \u001b[0mmy_list1\u001b[0m \u001b[0;34m=\u001b[0m \u001b[0;34m[\u001b[0m\u001b[0;36m2\u001b[0m\u001b[0;34m,\u001b[0m\u001b[0;36m7\u001b[0m\u001b[0;34m,\u001b[0m\u001b[0;36m3\u001b[0m\u001b[0;34m,\u001b[0m\u001b[0;36m5\u001b[0m\u001b[0;34m,\u001b[0m\u001b[0;36m4\u001b[0m\u001b[0;34m,\u001b[0m\u001b[0;36m6\u001b[0m\u001b[0;34m]\u001b[0m\u001b[0;34m\u001b[0m\u001b[0;34m\u001b[0m\u001b[0m\n\u001b[1;32m      4\u001b[0m \u001b[0mprint\u001b[0m\u001b[0;34m(\u001b[0m\u001b[0mmy_list1\u001b[0m\u001b[0;34m)\u001b[0m\u001b[0;34m\u001b[0m\u001b[0;34m\u001b[0m\u001b[0m\n\u001b[0;32m----> 5\u001b[0;31m \u001b[0marr_1\u001b[0m\u001b[0;34m=\u001b[0m\u001b[0mnumpy\u001b[0m\u001b[0;34m.\u001b[0m\u001b[0marray\u001b[0m\u001b[0;34m(\u001b[0m\u001b[0mmy_list1\u001b[0m\u001b[0;34m,\u001b[0m \u001b[0mdtype\u001b[0m\u001b[0;34m=\u001b[0m\u001b[0mint\u001b[0m\u001b[0;34m)\u001b[0m\u001b[0;34m\u001b[0m\u001b[0;34m\u001b[0m\u001b[0m\n\u001b[0m\u001b[1;32m      6\u001b[0m \u001b[0mprint\u001b[0m\u001b[0;34m(\u001b[0m\u001b[0marr_1\u001b[0m\u001b[0;34m)\u001b[0m\u001b[0;34m\u001b[0m\u001b[0;34m\u001b[0m\u001b[0m\n",
                        "\u001b[0;31mNameError\u001b[0m: name 'numpy' is not defined"
                    ]
                }
            ],
            "source": "import os\nimport numpy as np\nmy_list1 = [2,7,3,5,4,6]\nprint(my_list1)\narr_1=numpy.array(my_list1, dtype=int)\nprint(arr_1)"
        },
        {
            "cell_type": "markdown",
            "metadata": {
                "id": "yqWh0W2xTL07"
            },
            "source": "A7 - D"
        },
        {
            "cell_type": "code",
            "execution_count": 49,
            "metadata": {
                "colab": {
                    "base_uri": "https://localhost:8080/",
                    "height": 36
                },
                "id": "uDjADA7LS-EC",
                "outputId": "306beab6-0cf5-47d7-84a4-230930336192"
            },
            "outputs": [
                {
                    "data": {
                        "application/vnd.google.colaboratory.intrinsic+json": {
                            "type": "string"
                        },
                        "text/plain": "'Learn'"
                    },
                    "execution_count": 49,
                    "metadata": {},
                    "output_type": "execute_result"
                }
            ],
            "source": "string = \"Machine Learning\"\nstring[slice(8,13,1)]\n"
        },
        {
            "cell_type": "markdown",
            "metadata": {
                "id": "C7qGaXDYTsRz"
            },
            "source": "A8 - b"
        },
        {
            "cell_type": "code",
            "execution_count": 68,
            "metadata": {
                "colab": {
                    "base_uri": "https://localhost:8080/"
                },
                "id": "XGQUf2pGTbu5",
                "outputId": "ad464547-2c2e-4444-e4a4-84c9eb05fdea"
            },
            "outputs": [
                {
                    "data": {
                        "text/plain": "2"
                    },
                    "execution_count": 68,
                    "metadata": {},
                    "output_type": "execute_result"
                }
            ],
            "source": "list = []\nfor x in range(10,25,4):\n  list.append(x)\nlist\nlist.index(18)\n\n\n"
        },
        {
            "cell_type": "markdown",
            "metadata": {
                "id": "nn9YHmKMVYb7"
            },
            "source": "A9 - A"
        },
        {
            "cell_type": "code",
            "execution_count": 69,
            "metadata": {
                "colab": {
                    "base_uri": "https://localhost:8080/"
                },
                "id": "YXKRnfPAUIAi",
                "outputId": "2f923758-3c3a-48e8-a7b8-2e0f736b6080"
            },
            "outputs": [
                {
                    "name": "stdout",
                    "output_type": "stream",
                    "text": "625 625\n"
                }
            ],
            "source": "num1=5**4\nnum2=pow(5,4)\nprint(num1,num2)"
        },
        {
            "cell_type": "markdown",
            "metadata": {
                "id": "yZ7Mq79BVk74"
            },
            "source": "A10 - A. **Trying to access a variable which has not been defined** (In Python, the NameError occurs when you try to use a variable, function, or module that doesn't exist or wasn't used in a valid way. )"
        },
        {
            "cell_type": "markdown",
            "metadata": {
                "id": "3RLeRyWTWwJd"
            },
            "source": "A11 - C (ValueError)"
        },
        {
            "cell_type": "code",
            "execution_count": 72,
            "metadata": {
                "colab": {
                    "base_uri": "https://localhost:8080/",
                    "height": 190
                },
                "id": "wA5QzwVvVihZ",
                "outputId": "330b6b96-10ad-4617-c782-da8b5eaf38fa"
            },
            "outputs": [
                {
                    "ename": "ValueError",
                    "evalue": "ignored",
                    "output_type": "error",
                    "traceback": [
                        "\u001b[0;31m---------------------------------------------------------------------------\u001b[0m",
                        "\u001b[0;31mValueError\u001b[0m                                Traceback (most recent call last)",
                        "\u001b[0;32m<ipython-input-72-71a3c6915243>\u001b[0m in \u001b[0;36m<module>\u001b[0;34m\u001b[0m\n\u001b[1;32m      1\u001b[0m \u001b[0mx\u001b[0m \u001b[0;34m=\u001b[0m \u001b[0;34m\"string\"\u001b[0m\u001b[0;34m\u001b[0m\u001b[0;34m\u001b[0m\u001b[0m\n\u001b[0;32m----> 2\u001b[0;31m \u001b[0mint\u001b[0m\u001b[0;34m(\u001b[0m\u001b[0mx\u001b[0m\u001b[0;34m)\u001b[0m\u001b[0;34m\u001b[0m\u001b[0;34m\u001b[0m\u001b[0m\n\u001b[0m",
                        "\u001b[0;31mValueError\u001b[0m: invalid literal for int() with base 10: 'string'"
                    ]
                }
            ],
            "source": "x = \"string\"\nint(x)"
        },
        {
            "cell_type": "markdown",
            "metadata": {
                "id": "ioO2xnALXD7o"
            },
            "source": "A12 - B. A file or directory is requested but does not exist in the working directory\n"
        },
        {
            "cell_type": "markdown",
            "metadata": {
                "id": "SMaQdUceXVhx"
            },
            "source": "A13 - String ( A string is a collection of one or more characters put in a single quote, double-quote or triple quote. In python there is no character data type, a character is a string of length one. It is represented by str class.)"
        },
        {
            "cell_type": "code",
            "execution_count": 76,
            "metadata": {
                "colab": {
                    "base_uri": "https://localhost:8080/"
                },
                "id": "8LfkTB4GW3It",
                "outputId": "16ae4db0-a378-43af-a4e4-ef43d54593e2"
            },
            "outputs": [
                {
                    "data": {
                        "text/plain": "str"
                    },
                    "execution_count": 76,
                    "metadata": {},
                    "output_type": "execute_result"
                }
            ],
            "source": "Z = \"ID-5632\"\ntype(Z)"
        },
        {
            "cell_type": "markdown",
            "metadata": {
                "id": "0V_iqQmuYV7Z"
            },
            "source": "A14 - D ( A string is a collection of one or more characters put in a single quote, double-quote or triple quote. In python there is no character data type, a character is a string of length one. It is represented by str class.)"
        },
        {
            "cell_type": "markdown",
            "metadata": {
                "id": "PHJFoThWZxs4"
            },
            "source": "A15 - a,c,d"
        },
        {
            "cell_type": "markdown",
            "metadata": {
                "id": "wLj_ciqXaVfR"
            },
            "source": "A16 - "
        },
        {
            "cell_type": "code",
            "execution_count": 78,
            "metadata": {
                "colab": {
                    "base_uri": "https://localhost:8080/"
                },
                "id": "vk0u39XlXdyI",
                "outputId": "8ebac328-0994-42c2-ac09-84bd70dd629e"
            },
            "outputs": [
                {
                    "data": {
                        "text/plain": "{'India': 'delhi',\n 'China': 'Beijing',\n 'Japan': 'Tokyo',\n 'Qatar': 'Doha',\n 'France': 'Marseilles'}"
                    },
                    "execution_count": 78,
                    "metadata": {},
                    "output_type": "execute_result"
                }
            ],
            "source": "Country = {'India':'delhi', 'China':'Beijing', 'Japan':'Tokyo', 'Qatar':'Doha', 'France':'Marseilles'}\nCountry"
        },
        {
            "cell_type": "code",
            "execution_count": 79,
            "metadata": {
                "id": "9-N4axLVdsu7"
            },
            "outputs": [],
            "source": "#Method 1\nupdict = {'France':'Paris'}\n  \nres = {key: updict.get(key, Country[key]) for key in Country}"
        },
        {
            "cell_type": "code",
            "execution_count": 80,
            "metadata": {
                "colab": {
                    "base_uri": "https://localhost:8080/"
                },
                "id": "n3uVLoMFedf2",
                "outputId": "2faf0640-fc91-4420-9241-8643f3e8e2fe"
            },
            "outputs": [
                {
                    "data": {
                        "text/plain": "{'India': 'delhi',\n 'China': 'Beijing',\n 'Japan': 'Tokyo',\n 'Qatar': 'Doha',\n 'France': 'Paris'}"
                    },
                    "execution_count": 80,
                    "metadata": {},
                    "output_type": "execute_result"
                }
            ],
            "source": "res"
        },
        {
            "cell_type": "code",
            "execution_count": 81,
            "metadata": {
                "colab": {
                    "base_uri": "https://localhost:8080/"
                },
                "id": "wNzjL7dreeka",
                "outputId": "b88f6291-b594-4ae2-e307-454a9fed5fcc"
            },
            "outputs": [
                {
                    "name": "stdout",
                    "output_type": "stream",
                    "text": "The original dictionary is : {'India': 'delhi', 'China': 'Beijing', 'Japan': 'Tokyo', 'Qatar': 'Doha', 'France': 'Marseilles'}\nThe updated dictionary: {'India': 'delhi', 'China': 'Beijing', 'Japan': 'Tokyo', 'Qatar': 'Doha', 'France': 'Paris'}\n"
                }
            ],
            "source": "#Method 2:\n# Python3 code to demonstrate working of \n# Replace dictionary value from other dictionary\n# Using loop\n  \n# initializing dictionary\nCountry = {'India':'delhi', 'China':'Beijing', 'Japan':'Tokyo', 'Qatar':'Doha', 'France':'Marseilles'}\n  \n# printing original dictionary\nprint(\"The original dictionary is : \" + str(Country))\n  \n# initializing updict\nupdict = {'France':'Paris'}\n  \nfor sub in Country:\n      \n    # checking if key present in other dictionary\n    if sub in updict:\n        Country[sub]  = updict[sub]\n  \n# printing result \nprint(\"The updated dictionary: \" + str(Country)) "
        },
        {
            "cell_type": "markdown",
            "metadata": {
                "id": "TqsQ4gAghBlh"
            },
            "source": "A17 - D"
        },
        {
            "cell_type": "code",
            "execution_count": 83,
            "metadata": {
                "id": "ey1V2u87fsZ2"
            },
            "outputs": [],
            "source": "tuple_1 = (1,5,6,7,8)\ntuple_2 = (8,9,4)\n"
        },
        {
            "cell_type": "markdown",
            "metadata": {
                "id": "QrtUrudZhXh_"
            },
            "source": "A18 - 6"
        },
        {
            "cell_type": "code",
            "execution_count": 90,
            "metadata": {
                "colab": {
                    "base_uri": "https://localhost:8080/"
                },
                "id": "1_0KtHUXhQw0",
                "outputId": "5bc0d464-cb31-48a9-b25c-9b2aed44bf80"
            },
            "outputs": [
                {
                    "data": {
                        "text/plain": "6"
                    },
                    "execution_count": 90,
                    "metadata": {},
                    "output_type": "execute_result"
                }
            ],
            "source": "s = {1,2,3,4,4,4,5,6}\nlen(s)"
        },
        {
            "cell_type": "markdown",
            "metadata": {
                "id": "w2o6qR_Sklxe"
            },
            "source": "A19\n"
        },
        {
            "cell_type": "code",
            "execution_count": 96,
            "metadata": {
                "colab": {
                    "base_uri": "https://localhost:8080/"
                },
                "id": "W1LXKwgVhiGp",
                "outputId": "19839ab2-6b19-4f28-d232-80c801c1e5a0"
            },
            "outputs": [
                {
                    "name": "stdout",
                    "output_type": "stream",
                    "text": "3 4 5\n5 12 13\n6 8 10\n8 15 17\n9 12 15\n12 16 20\n"
                }
            ],
            "source": "N=20\nfor x in range(1,N): \n    for y in range(x+1,N): \n        z = y + 1\n        while z * z < x * x + y * y: \n            z = z + 1\n        \n        if z * z == x * x + y * y and z <= N:\n            print(x, y, z) \n        \n  "
        },
        {
            "cell_type": "code",
            "execution_count": null,
            "metadata": {
                "id": "qzhB7V2Ckp90"
            },
            "outputs": [],
            "source": ""
        }
    ],
    "metadata": {
        "colab": {
            "collapsed_sections": [],
            "name": "Python3Baisics.ipynb",
            "provenance": []
        },
        "kernelspec": {
            "display_name": "Python 3.10",
            "language": "python",
            "name": "python3"
        },
        "language_info": {
            "codemirror_mode": {
                "name": "ipython",
                "version": 3
            },
            "file_extension": ".py",
            "mimetype": "text/x-python",
            "name": "python",
            "nbconvert_exporter": "python",
            "pygments_lexer": "ipython3",
            "version": "3.10.6"
        }
    },
    "nbformat": 4,
    "nbformat_minor": 1
}